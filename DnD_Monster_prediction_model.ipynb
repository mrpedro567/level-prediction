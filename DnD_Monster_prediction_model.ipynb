{
  "nbformat": 4,
  "nbformat_minor": 0,
  "metadata": {
    "colab": {
      "name": "DnD Monster prediction model.ipynb",
      "provenance": [],
      "authorship_tag": "ABX9TyN/ThA6kkaucJxoGps0UmAZ",
      "include_colab_link": true
    },
    "kernelspec": {
      "name": "python3",
      "display_name": "Python 3"
    },
    "language_info": {
      "name": "python"
    }
  },
  "cells": [
    {
      "cell_type": "markdown",
      "metadata": {
        "id": "view-in-github",
        "colab_type": "text"
      },
      "source": [
        "<a href=\"https://colab.research.google.com/github/mrpedro567/level-prediction/blob/master/DnD_Monster_prediction_model.ipynb\" target=\"_parent\"><img src=\"https://colab.research.google.com/assets/colab-badge.svg\" alt=\"Open In Colab\"/></a>"
      ]
    },
    {
      "cell_type": "markdown",
      "source": [
        "Regression model for prediction Challenge Level for a monster.\n",
        "\n",
        "Import data from csv using pandas."
      ],
      "metadata": {
        "id": "dmijuAVsP-lM"
      }
    },
    {
      "cell_type": "code",
      "execution_count": 1,
      "metadata": {
        "id": "0tsMyPbxPzof"
      },
      "outputs": [],
      "source": [
        "import pandas as pd\n",
        "\n",
        "mon_data = pd.read_csv('5e_index.xlsx')"
      ]
    }
  ]
}